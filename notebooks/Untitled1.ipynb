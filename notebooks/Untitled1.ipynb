{
 "cells": [
  {
   "cell_type": "code",
   "execution_count": 1,
   "metadata": {},
   "outputs": [],
   "source": [
    "import pandas as pd"
   ]
  },
  {
   "cell_type": "code",
   "execution_count": 3,
   "metadata": {},
   "outputs": [],
   "source": [
    "import matplotlib\n",
    "import matplotlib.pyplot as plt\n",
    "plt.style.use('seaborn')\n",
    "%matplotlib inline"
   ]
  },
  {
   "cell_type": "code",
   "execution_count": 24,
   "metadata": {},
   "outputs": [],
   "source": [
    "df = pd.read_csv('brad_peacock_0407.csv', sep=',')"
   ]
  },
  {
   "cell_type": "code",
   "execution_count": 25,
   "metadata": {},
   "outputs": [
    {
     "data": {
      "text/plain": [
       "Index(['Pitch', 'MPH', 'EV MPH', 'Pitcher', 'Batter', 'Dist', 'Zone',\n",
       "       'Game Date', 'Count', 'Inning', 'Pitch Result', 'PA Result',\n",
       "       'Unnamed: 12'],\n",
       "      dtype='object')"
      ]
     },
     "execution_count": 25,
     "metadata": {},
     "output_type": "execute_result"
    }
   ],
   "source": [
    "df.columns"
   ]
  },
  {
   "cell_type": "code",
   "execution_count": 26,
   "metadata": {},
   "outputs": [
    {
     "data": {
      "text/plain": [
       "<matplotlib.axes._subplots.AxesSubplot at 0x1c6763dc630>"
      ]
     },
     "execution_count": 26,
     "metadata": {},
     "output_type": "execute_result"
    },
    {
     "data": {
      "image/png": "[encoded data removed]",
      "text/plain": [
       "<Figure size 432x288 with 1 Axes>"
      ]
     },
     "metadata": {},
     "output_type": "display_data"
    }
   ],
   "source": [
    "df.Pitch.value_counts().plot.pie()"
   ]
  },
  {
   "cell_type": "code",
   "execution_count": 32,
   "metadata": {},
   "outputs": [
    {
     "name": "stdout",
     "output_type": "stream",
     "text": [
      "CH\n",
      "ball             2\n",
      "foul             2\n",
      "called_strike    1\n",
      "Name: Pitch Result, dtype: int64\n",
      "ball             0.4\n",
      "foul             0.4\n",
      "called_strike    0.2\n",
      "Name: Pitch Result, dtype: float64\n",
      "FC\n",
      "hit_into_play    1\n",
      "Name: Pitch Result, dtype: int64\n",
      "hit_into_play    1.0\n",
      "Name: Pitch Result, dtype: float64\n",
      "FF\n",
      "ball                    9\n",
      "foul                    8\n",
      "called_strike           3\n",
      "hit_into_play           2\n",
      "swinging_strike         1\n",
      "hit_into_play_score     1\n",
      "hit_into_play_no_out    1\n",
      "Name: Pitch Result, dtype: int64\n",
      "ball                    0.36\n",
      "foul                    0.32\n",
      "called_strike           0.12\n",
      "hit_into_play           0.08\n",
      "swinging_strike         0.04\n",
      "hit_into_play_score     0.04\n",
      "hit_into_play_no_out    0.04\n",
      "Name: Pitch Result, dtype: float64\n",
      "FT\n",
      "ball               4\n",
      "hit_into_play      4\n",
      "foul               3\n",
      "called_strike      3\n",
      "swinging_strike    2\n",
      "Name: Pitch Result, dtype: int64\n",
      "ball               0.2500\n",
      "hit_into_play      0.2500\n",
      "foul               0.1875\n",
      "called_strike      0.1875\n",
      "swinging_strike    0.1250\n",
      "Name: Pitch Result, dtype: float64\n",
      "KC\n",
      "ball               6\n",
      "swinging_strike    2\n",
      "hit_into_play      1\n",
      "foul               1\n",
      "called_strike      1\n",
      "Name: Pitch Result, dtype: int64\n",
      "ball               0.545455\n",
      "swinging_strike    0.181818\n",
      "hit_into_play      0.090909\n",
      "foul               0.090909\n",
      "called_strike      0.090909\n",
      "Name: Pitch Result, dtype: float64\n",
      "SI\n",
      "hit_into_play    1\n",
      "Name: Pitch Result, dtype: int64\n",
      "hit_into_play    1.0\n",
      "Name: Pitch Result, dtype: float64\n",
      "SL\n",
      "ball                       11\n",
      "hit_into_play               5\n",
      "called_strike               5\n",
      "swinging_strike             3\n",
      "foul                        2\n",
      "swinging_strike_blocked     1\n",
      "Name: Pitch Result, dtype: int64\n",
      "ball                       0.407407\n",
      "hit_into_play              0.185185\n",
      "called_strike              0.185185\n",
      "swinging_strike            0.111111\n",
      "foul                       0.074074\n",
      "swinging_strike_blocked    0.037037\n",
      "Name: Pitch Result, dtype: float64\n"
     ]
    }
   ],
   "source": [
    "for i, j in df.groupby('Pitch'):\n",
    "    print(i)\n",
    "    print(j['Pitch Result'].value_counts())\n",
    "    print(j['Pitch Result'].value_counts()/sum(j['Pitch Result'].value_counts()))"
   ]
  },
  {
   "cell_type": "code",
   "execution_count": 31,
   "metadata": {},
   "outputs": [
    {
     "data": {
      "text/plain": [
       "SL    5\n",
       "FT    4\n",
       "FF    2\n",
       "SI    1\n",
       "KC    1\n",
       "FC    1\n",
       "Name: Pitch, dtype: int64"
      ]
     },
     "execution_count": 31,
     "metadata": {},
     "output_type": "execute_result"
    }
   ],
   "source": [
    "df[df['Pitch Result'] == 'hit_into_play'].Pitch.value_counts()"
   ]
  },
  {
   "cell_type": "code",
   "execution_count": null,
   "metadata": {},
   "outputs": [],
   "source": []
  }
 ],
 "metadata": {
  "kernelspec": {
   "display_name": "Python 3",
   "language": "python",
   "name": "python3"
  },
  "language_info": {
   "codemirror_mode": {
    "name": "ipython",
    "version": 3
   },
   "file_extension": ".py",
   "mimetype": "text/x-python",
   "name": "python",
   "nbconvert_exporter": "python",
   "pygments_lexer": "ipython3",
   "version": "3.6.6"
  }
 },
 "nbformat": 4,
 "nbformat_minor": 2
}
