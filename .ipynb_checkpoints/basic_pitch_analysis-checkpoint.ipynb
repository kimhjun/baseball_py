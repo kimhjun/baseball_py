{
 "cells": [
  {
   "cell_type": "code",
   "execution_count": 289,
   "metadata": {},
   "outputs": [],
   "source": [
    "import pandas as pd\n",
    "import matplotlib.pyplot as plt"
   ]
  },
  {
   "cell_type": "code",
   "execution_count": 253,
   "metadata": {},
   "outputs": [],
   "source": [
    "def load_df(pit_name):\n",
    "    file = 'data/{}.csv'.format(pit_name)\n",
    "    pit_df = pd.read_csv(file, encoding='utf-8')\n",
    "    pit_df['count'] = pit_df['strikes'].map(str) + '-' + pit_df['balls'].map(str)\n",
    "    pit_df['event_cat'] = pit_df['events'].map(lambda x: event_category[x] if x in event_category.keys() else None)\n",
    "    return pit_df\n",
    "\n",
    "# focus hitted balls\n",
    "def hit_events(pit_df, cols=['game_date', 'at_bat_number', 'pitch_type', 'release_speed', 'iso_value', 'strikes', 'balls', 'events', 'pitch_number', 'stand']):\n",
    "    \n",
    "    pit_focus = pit_df[cols].copy()\n",
    "    pit_focus = pit_focus[pit_focus['events'].isna() != True].copy()\n",
    "    pit_focus['count'] = pit_df['strikes'].map(str) + '-' + pit_df['balls'].map(str)\n",
    "    return pit_focus\n",
    "\n",
    "def view_as_group(df, viewpoint):\n",
    "    view_dict = {}\n",
    "    for view, table in list(df.groupby(viewpoint)):\n",
    "        view_dict[view] = table\n",
    "    return view_dict\n",
    "\n",
    "focus_col = ['pitch_type', 'release_speed', 'iso_value', 'strikes', 'balls', 'events', 'event_cat', 'pitch_number', 'stand', 'inning', 'count']\n",
    "\n",
    "event_category = {\n",
    "    \"double\":\"extra_bh\",\n",
    "    \"triple\":\"extra_bh\",\n",
    "    \"home_run\":\"extra_bh\",\n",
    "    \"catcher_interf\":\"def_err\",\n",
    "    \"field_error\":\"def_err\",\n",
    "    \"strikeout\":\"so\",\n",
    "    \"strikeout_double_play\":\"so\",\n",
    "    \"walk\":\"BBs\",\n",
    "    \"hit_by_pitch\":\"BBs\",\n",
    "    \"caught_stealing_2b\":\"cs\",\n",
    "    \"double_play\":\"dp\",\n",
    "    \"field_out\":\"out\",\n",
    "    \"fielders_choice_out\":\"out\",\n",
    "    \"force_out\":\"out\",\n",
    "    \"grounded_into_double_play\":\"dp\",\n",
    "    \"sac_bunt\":\"out\",\n",
    "    \"sac_fly\":\"out\",\n",
    "    \"single\":\"hit\",\n",
    "}"
   ]
  },
  {
   "cell_type": "code",
   "execution_count": 266,
   "metadata": {},
   "outputs": [],
   "source": [
    "ml_df = load_df('mike_leake')\n",
    "ml_focus = hit_events(ml_df)"
   ]
  },
  {
   "cell_type": "code",
   "execution_count": 267,
   "metadata": {},
   "outputs": [],
   "source": [
    "ml_focus_ = ml_focus.set_index(['game_date', 'at_bat_number']).sort_index(ascending=True)\n",
    "ml_df_ = ml_df.set_index(['game_date', 'at_bat_number']).sort_index(ascending=True)"
   ]
  },
  {
   "cell_type": "code",
   "execution_count": null,
   "metadata": {},
   "outputs": [],
   "source": []
  },
  {
   "cell_type": "code",
   "execution_count": 268,
   "metadata": {},
   "outputs": [],
   "source": [
    "ml_by_event = view_as_group(ml_df_, 'events')"
   ]
  },
  {
   "cell_type": "code",
   "execution_count": 269,
   "metadata": {},
   "outputs": [],
   "source": [
    "ev_list = [ev for ev in ml_by_event]"
   ]
  },
  {
   "cell_type": "code",
   "execution_count": 270,
   "metadata": {},
   "outputs": [],
   "source": [
    "hr_log = ml_by_event['home_run'].loc[:, focus_col]\n",
    "double_log = ml_by_event['double'].loc[:, focus_col]\n",
    "triple_log = ml_by_event['triple'].loc[:, focus_col]"
   ]
  },
  {
   "cell_type": "code",
   "execution_count": 271,
   "metadata": {},
   "outputs": [],
   "source": [
    "so_log = ml_by_event['strikeout'].loc[:, focus_col]\n",
    "so_log = so_log.append(ml_by_event['strikeout_double_play'].loc[:, focus_col]).sort_index()\n",
    "bb_log = ml_by_event['walk'].loc[:, focus_col]"
   ]
  },
  {
   "cell_type": "code",
   "execution_count": 272,
   "metadata": {},
   "outputs": [
    {
     "data": {
      "text/plain": [
       "SL    32\n",
       "FC    30\n",
       "KC    18\n",
       "SI    16\n",
       "CH    15\n",
       "FF     3\n",
       "Name: pitch_type, dtype: int64"
      ]
     },
     "execution_count": 272,
     "metadata": {},
     "output_type": "execute_result"
    }
   ],
   "source": [
    "so_log['pitch_type'].value_counts()"
   ]
  },
  {
   "cell_type": "code",
   "execution_count": 343,
   "metadata": {},
   "outputs": [],
   "source": [
    "ml_cat = view_as_group(ml_df_[focus_col], 'event_cat')"
   ]
  },
  {
   "cell_type": "code",
   "execution_count": 347,
   "metadata": {},
   "outputs": [
    {
     "data": {
      "text/plain": [
       "<matplotlib.axes._subplots.AxesSubplot at 0x2bba029d208>"
      ]
     },
     "execution_count": 347,
     "metadata": {},
     "output_type": "execute_result"
    },
    {
     "data": {
      "image/png": "[encoded data removed]",
      "text/plain": [
       "<Figure size 432x288 with 1 Axes>"
      ]
     },
     "metadata": {},
     "output_type": "display_data"
    }
   ],
   "source": [
    "ml_cat['extra_bh']['count'].value_counts().sort_index().plot('bar', color='black', title='# of extra hits by counts')"
   ]
  },
  {
   "cell_type": "code",
   "execution_count": 334,
   "metadata": {},
   "outputs": [
    {
     "data": {
      "text/plain": [
       "R    75\n",
       "L    39\n",
       "Name: stand, dtype: int64"
      ]
     },
     "execution_count": 334,
     "metadata": {},
     "output_type": "execute_result"
    }
   ],
   "source": [
    "ml_cat['so']['stand'].value_counts()"
   ]
  },
  {
   "cell_type": "code",
   "execution_count": 335,
   "metadata": {},
   "outputs": [
    {
     "data": {
      "text/plain": [
       "R    22\n",
       "L    14\n",
       "Name: stand, dtype: int64"
      ]
     },
     "execution_count": 335,
     "metadata": {},
     "output_type": "execute_result"
    }
   ],
   "source": [
    "ml_cat['BBs']['stand'].value_counts()"
   ]
  },
  {
   "cell_type": "code",
   "execution_count": null,
   "metadata": {},
   "outputs": [],
   "source": []
  },
  {
   "cell_type": "code",
   "execution_count": null,
   "metadata": {},
   "outputs": [],
   "source": []
  },
  {
   "cell_type": "code",
   "execution_count": 311,
   "metadata": {},
   "outputs": [
    {
     "name": "stderr",
     "output_type": "stream",
     "text": [
      "c:\\users\\hjunk\\anaconda3\\envs\\henv\\lib\\site-packages\\pandas\\plotting\\_core.py:194: UserWarning: 'colors' is being deprecated. Please use 'color'instead of 'colors'\n",
      "  warnings.warn((\"'colors' is being deprecated. Please use 'color'\"\n"
     ]
    },
    {
     "data": {
      "text/plain": [
       "<matplotlib.axes._subplots.AxesSubplot at 0x2bb9ebea668>"
      ]
     },
     "execution_count": 311,
     "metadata": {},
     "output_type": "execute_result"
    },
    {
     "data": {
      "image/png": "[encoded data removed]",
      "text/plain": [
       "<Figure size 432x288 with 1 Axes>"
      ]
     },
     "metadata": {},
     "output_type": "display_data"
    }
   ],
   "source": [
    "ml_cat['extra_bh']['pitch_type'].value_counts().sort_index().plot('bar', colors='black')"
   ]
  },
  {
   "cell_type": "code",
   "execution_count": 313,
   "metadata": {},
   "outputs": [
    {
     "data": {
      "text/plain": [
       "<matplotlib.axes._subplots.AxesSubplot at 0x2bb9ec676d8>"
      ]
     },
     "execution_count": 313,
     "metadata": {},
     "output_type": "execute_result"
    },
    {
     "data": {
      "image/png": "[encoded data removed]",
      "text/plain": [
       "<Figure size 432x288 with 1 Axes>"
      ]
     },
     "metadata": {},
     "output_type": "display_data"
    }
   ],
   "source": [
    "ml_cat['BBs']['pitch_type'].value_counts().sort_index().plot('bar', color='black')"
   ]
  },
  {
   "cell_type": "code",
   "execution_count": 332,
   "metadata": {},
   "outputs": [
    {
     "data": {
      "text/plain": [
       "<matplotlib.axes._subplots.AxesSubplot at 0x2bb9f0d8b00>"
      ]
     },
     "execution_count": 332,
     "metadata": {},
     "output_type": "execute_result"
    },
    {
     "data": {
      "image/png": "[encoded data removed]",
      "text/plain": [
       "<Figure size 432x288 with 1 Axes>"
      ]
     },
     "metadata": {},
     "output_type": "display_data"
    }
   ],
   "source": [
    "ml_cat['so']['pitch_type'].value_counts().sort_index().plot('bar', color='black', title=\"Leake's SO pitch\")"
   ]
  },
  {
   "cell_type": "code",
   "execution_count": 316,
   "metadata": {},
   "outputs": [
    {
     "data": {
      "text/plain": [
       "<matplotlib.axes._subplots.AxesSubplot at 0x2bb9ed8de10>"
      ]
     },
     "execution_count": 316,
     "metadata": {},
     "output_type": "execute_result"
    },
    {
     "data": {
      "image/png": "[encoded data removed]",
      "text/plain": [
       "<Figure size 432x288 with 1 Axes>"
      ]
     },
     "metadata": {},
     "output_type": "display_data"
    }
   ],
   "source": [
    "ml_cat['extra_bh']['balls'].value_counts().plot('bar', title='# of extra base hits by # of Balls', color='black')"
   ]
  },
  {
   "cell_type": "code",
   "execution_count": 317,
   "metadata": {},
   "outputs": [
    {
     "data": {
      "text/plain": [
       "<matplotlib.axes._subplots.AxesSubplot at 0x2bb9eda8ac8>"
      ]
     },
     "execution_count": 317,
     "metadata": {},
     "output_type": "execute_result"
    },
    {
     "data": {
      "image/png": "[encoded data removed]",
      "text/plain": [
       "<Figure size 432x288 with 1 Axes>"
      ]
     },
     "metadata": {},
     "output_type": "display_data"
    }
   ],
   "source": [
    "ml_cat['so']['balls'].value_counts().sort_index().plot('bar', title='SOs by # of Balls')"
   ]
  },
  {
   "cell_type": "code",
   "execution_count": 304,
   "metadata": {},
   "outputs": [
    {
     "data": {
      "text/plain": [
       "<matplotlib.axes._subplots.AxesSubplot at 0x2bb99990ef0>"
      ]
     },
     "execution_count": 304,
     "metadata": {},
     "output_type": "execute_result"
    },
    {
     "data": {
      "image/png": "[encoded data removed]",
      "text/plain": [
       "<Figure size 432x288 with 1 Axes>"
      ]
     },
     "metadata": {},
     "output_type": "display_data"
    }
   ],
   "source": [
    "ml_cat['hit']['strikes'].value_counts().sort_index().plot('bar', title='Hits by Ball counts')"
   ]
  },
  {
   "cell_type": "code",
   "execution_count": null,
   "metadata": {},
   "outputs": [],
   "source": [
    "ml_by_event = view_as_group(ml_df_, 'events')"
   ]
  },
  {
   "cell_type": "code",
   "execution_count": 84,
   "metadata": {},
   "outputs": [],
   "source": [
    "hitted_ball_dist = ml2.pitch_type.value_counts()"
   ]
  },
  {
   "cell_type": "code",
   "execution_count": 85,
   "metadata": {},
   "outputs": [],
   "source": [
    "all_ball_dist = ml_df['pitch_type'].value_counts()"
   ]
  },
  {
   "cell_type": "code",
   "execution_count": 86,
   "metadata": {},
   "outputs": [
    {
     "data": {
      "text/plain": [
       "CH    329\n",
       "FC    435\n",
       "FF     59\n",
       "KC    223\n",
       "SI    689\n",
       "SL    191\n",
       "Name: pitch_type, dtype: int64"
      ]
     },
     "execution_count": 86,
     "metadata": {},
     "output_type": "execute_result"
    }
   ],
   "source": [
    "all_ball_dist - hitted_ball_dist"
   ]
  },
  {
   "cell_type": "code",
   "execution_count": 330,
   "metadata": {},
   "outputs": [
    {
     "data": {
      "text/plain": [
       "<matplotlib.axes._subplots.AxesSubplot at 0x2bb9f0d8710>"
      ]
     },
     "execution_count": 330,
     "metadata": {},
     "output_type": "execute_result"
    },
    {
     "data": {
      "image/png": "[encoded data removed]",
      "text/plain": [
       "<Figure size 432x288 with 1 Axes>"
      ]
     },
     "metadata": {},
     "output_type": "display_data"
    }
   ],
   "source": [
    "all_ball_dist.plot('pie', title= \"Leake's repertoire\")"
   ]
  },
  {
   "cell_type": "code",
   "execution_count": 325,
   "metadata": {},
   "outputs": [
    {
     "data": {
      "text/plain": [
       "SI    941\n",
       "FC    592\n",
       "CH    486\n",
       "KC    303\n",
       "SL    284\n",
       "FF     66\n",
       "Name: pitch_type, dtype: int64"
      ]
     },
     "execution_count": 325,
     "metadata": {},
     "output_type": "execute_result"
    }
   ],
   "source": [
    "all_ball_dist"
   ]
  },
  {
   "cell_type": "code",
   "execution_count": 320,
   "metadata": {},
   "outputs": [
    {
     "data": {
      "text/plain": [
       "<matplotlib.axes._subplots.AxesSubplot at 0x2bb9ee2fe48>"
      ]
     },
     "execution_count": 320,
     "metadata": {},
     "output_type": "execute_result"
    },
    {
     "data": {
      "image/png": "[encoded data removed]",
      "text/plain": [
       "<Figure size 432x288 with 1 Axes>"
      ]
     },
     "metadata": {},
     "output_type": "display_data"
    }
   ],
   "source": [
    "hitted_ball_dist.plot('pie')"
   ]
  },
  {
   "cell_type": "code",
   "execution_count": 97,
   "metadata": {},
   "outputs": [
    {
     "data": {
      "text/plain": [
       "<matplotlib.axes._subplots.AxesSubplot at 0x2bb98309fd0>"
      ]
     },
     "execution_count": 97,
     "metadata": {},
     "output_type": "execute_result"
    },
    {
     "data": {
      "image/png": "[encoded data removed]",
      "text/plain": [
       "<Figure size 432x288 with 1 Axes>"
      ]
     },
     "metadata": {},
     "output_type": "display_data"
    }
   ],
   "source": [
    "all_ball_dist.plot('pie')"
   ]
  },
  {
   "cell_type": "code",
   "execution_count": 64,
   "metadata": {},
   "outputs": [
    {
     "data": {
      "text/html": [
       "<div>\n",
       "<style scoped>\n",
       "    .dataframe tbody tr th:only-of-type {\n",
       "        vertical-align: middle;\n",
       "    }\n",
       "\n",
       "    .dataframe tbody tr th {\n",
       "        vertical-align: top;\n",
       "    }\n",
       "\n",
       "    .dataframe thead th {\n",
       "        text-align: right;\n",
       "    }\n",
       "</style>\n",
       "<table border=\"1\" class=\"dataframe\">\n",
       "  <thead>\n",
       "    <tr style=\"text-align: right;\">\n",
       "      <th></th>\n",
       "      <th></th>\n",
       "      <th>pitch_type</th>\n",
       "      <th>release_speed</th>\n",
       "      <th>iso_value</th>\n",
       "      <th>strikes</th>\n",
       "      <th>balls</th>\n",
       "      <th>events</th>\n",
       "      <th>pitch_number</th>\n",
       "      <th>stand</th>\n",
       "      <th>count</th>\n",
       "    </tr>\n",
       "    <tr>\n",
       "      <th>game_date</th>\n",
       "      <th>at_bat_number</th>\n",
       "      <th></th>\n",
       "      <th></th>\n",
       "      <th></th>\n",
       "      <th></th>\n",
       "      <th></th>\n",
       "      <th></th>\n",
       "      <th></th>\n",
       "      <th></th>\n",
       "      <th></th>\n",
       "    </tr>\n",
       "  </thead>\n",
       "  <tbody>\n",
       "    <tr>\n",
       "      <th rowspan=\"5\" valign=\"top\">2018-04-01</th>\n",
       "      <th>1</th>\n",
       "      <td>SI</td>\n",
       "      <td>87.5</td>\n",
       "      <td>0.0</td>\n",
       "      <td>0</td>\n",
       "      <td>0</td>\n",
       "      <td>single</td>\n",
       "      <td>1</td>\n",
       "      <td>L</td>\n",
       "      <td>0-0</td>\n",
       "    </tr>\n",
       "    <tr>\n",
       "      <th>2</th>\n",
       "      <td>FF</td>\n",
       "      <td>89.3</td>\n",
       "      <td>0.0</td>\n",
       "      <td>2</td>\n",
       "      <td>2</td>\n",
       "      <td>strikeout</td>\n",
       "      <td>6</td>\n",
       "      <td>L</td>\n",
       "      <td>2-2</td>\n",
       "    </tr>\n",
       "    <tr>\n",
       "      <th>3</th>\n",
       "      <td>CH</td>\n",
       "      <td>82.3</td>\n",
       "      <td>0.0</td>\n",
       "      <td>1</td>\n",
       "      <td>1</td>\n",
       "      <td>field_out</td>\n",
       "      <td>3</td>\n",
       "      <td>L</td>\n",
       "      <td>1-1</td>\n",
       "    </tr>\n",
       "    <tr>\n",
       "      <th>4</th>\n",
       "      <td>CH</td>\n",
       "      <td>82.5</td>\n",
       "      <td>0.0</td>\n",
       "      <td>1</td>\n",
       "      <td>3</td>\n",
       "      <td>field_out</td>\n",
       "      <td>5</td>\n",
       "      <td>L</td>\n",
       "      <td>1-3</td>\n",
       "    </tr>\n",
       "    <tr>\n",
       "      <th>9</th>\n",
       "      <td>SI</td>\n",
       "      <td>90.1</td>\n",
       "      <td>0.0</td>\n",
       "      <td>2</td>\n",
       "      <td>2</td>\n",
       "      <td>strikeout</td>\n",
       "      <td>5</td>\n",
       "      <td>R</td>\n",
       "      <td>2-2</td>\n",
       "    </tr>\n",
       "  </tbody>\n",
       "</table>\n",
       "</div>"
      ],
      "text/plain": [
       "                         pitch_type  release_speed  iso_value  strikes  balls  \\\n",
       "game_date  at_bat_number                                                        \n",
       "2018-04-01 1                     SI           87.5        0.0        0      0   \n",
       "           2                     FF           89.3        0.0        2      2   \n",
       "           3                     CH           82.3        0.0        1      1   \n",
       "           4                     CH           82.5        0.0        1      3   \n",
       "           9                     SI           90.1        0.0        2      2   \n",
       "\n",
       "                             events  pitch_number stand count  \n",
       "game_date  at_bat_number                                       \n",
       "2018-04-01 1                 single             1     L   0-0  \n",
       "           2              strikeout             6     L   2-2  \n",
       "           3              field_out             3     L   1-1  \n",
       "           4              field_out             5     L   1-3  \n",
       "           9              strikeout             5     R   2-2  "
      ]
     },
     "execution_count": 64,
     "metadata": {},
     "output_type": "execute_result"
    }
   ],
   "source": [
    "ml2.head(5)"
   ]
  },
  {
   "cell_type": "code",
   "execution_count": 67,
   "metadata": {},
   "outputs": [],
   "source": [
    "pitch_dict = {}\n",
    "for pitch, df in list(ml2.groupby('pitch_type')):\n",
    "    pitch_dict[pitch] = df"
   ]
  },
  {
   "cell_type": "code",
   "execution_count": 69,
   "metadata": {},
   "outputs": [
    {
     "data": {
      "text/html": [
       "<div>\n",
       "<style scoped>\n",
       "    .dataframe tbody tr th:only-of-type {\n",
       "        vertical-align: middle;\n",
       "    }\n",
       "\n",
       "    .dataframe tbody tr th {\n",
       "        vertical-align: top;\n",
       "    }\n",
       "\n",
       "    .dataframe thead th {\n",
       "        text-align: right;\n",
       "    }\n",
       "</style>\n",
       "<table border=\"1\" class=\"dataframe\">\n",
       "  <thead>\n",
       "    <tr style=\"text-align: right;\">\n",
       "      <th></th>\n",
       "      <th></th>\n",
       "      <th>pitch_type</th>\n",
       "      <th>release_speed</th>\n",
       "      <th>iso_value</th>\n",
       "      <th>strikes</th>\n",
       "      <th>balls</th>\n",
       "      <th>events</th>\n",
       "      <th>pitch_number</th>\n",
       "      <th>stand</th>\n",
       "      <th>count</th>\n",
       "    </tr>\n",
       "    <tr>\n",
       "      <th>game_date</th>\n",
       "      <th>at_bat_number</th>\n",
       "      <th></th>\n",
       "      <th></th>\n",
       "      <th></th>\n",
       "      <th></th>\n",
       "      <th></th>\n",
       "      <th></th>\n",
       "      <th></th>\n",
       "      <th></th>\n",
       "      <th></th>\n",
       "    </tr>\n",
       "  </thead>\n",
       "  <tbody>\n",
       "    <tr>\n",
       "      <th rowspan=\"7\" valign=\"top\">2018-04-01</th>\n",
       "      <th>3</th>\n",
       "      <td>CH</td>\n",
       "      <td>82.3</td>\n",
       "      <td>0.0</td>\n",
       "      <td>1</td>\n",
       "      <td>1</td>\n",
       "      <td>field_out</td>\n",
       "      <td>3</td>\n",
       "      <td>L</td>\n",
       "      <td>1-1</td>\n",
       "    </tr>\n",
       "    <tr>\n",
       "      <th>4</th>\n",
       "      <td>CH</td>\n",
       "      <td>82.5</td>\n",
       "      <td>0.0</td>\n",
       "      <td>1</td>\n",
       "      <td>3</td>\n",
       "      <td>field_out</td>\n",
       "      <td>5</td>\n",
       "      <td>L</td>\n",
       "      <td>1-3</td>\n",
       "    </tr>\n",
       "    <tr>\n",
       "      <th>11</th>\n",
       "      <td>CH</td>\n",
       "      <td>84.2</td>\n",
       "      <td>0.0</td>\n",
       "      <td>2</td>\n",
       "      <td>3</td>\n",
       "      <td>walk</td>\n",
       "      <td>8</td>\n",
       "      <td>R</td>\n",
       "      <td>2-3</td>\n",
       "    </tr>\n",
       "    <tr>\n",
       "      <th>14</th>\n",
       "      <td>CH</td>\n",
       "      <td>81.3</td>\n",
       "      <td>0.0</td>\n",
       "      <td>2</td>\n",
       "      <td>1</td>\n",
       "      <td>field_out</td>\n",
       "      <td>4</td>\n",
       "      <td>L</td>\n",
       "      <td>2-1</td>\n",
       "    </tr>\n",
       "    <tr>\n",
       "      <th>21</th>\n",
       "      <td>CH</td>\n",
       "      <td>83.2</td>\n",
       "      <td>0.0</td>\n",
       "      <td>0</td>\n",
       "      <td>0</td>\n",
       "      <td>field_out</td>\n",
       "      <td>1</td>\n",
       "      <td>L</td>\n",
       "      <td>0-0</td>\n",
       "    </tr>\n",
       "    <tr>\n",
       "      <th>37</th>\n",
       "      <td>CH</td>\n",
       "      <td>83.2</td>\n",
       "      <td>0.0</td>\n",
       "      <td>1</td>\n",
       "      <td>0</td>\n",
       "      <td>grounded_into_double_play</td>\n",
       "      <td>2</td>\n",
       "      <td>L</td>\n",
       "      <td>1-0</td>\n",
       "    </tr>\n",
       "    <tr>\n",
       "      <th>45</th>\n",
       "      <td>CH</td>\n",
       "      <td>82.2</td>\n",
       "      <td>0.0</td>\n",
       "      <td>2</td>\n",
       "      <td>1</td>\n",
       "      <td>field_out</td>\n",
       "      <td>4</td>\n",
       "      <td>L</td>\n",
       "      <td>2-1</td>\n",
       "    </tr>\n",
       "    <tr>\n",
       "      <th rowspan=\"3\" valign=\"top\">2018-04-07</th>\n",
       "      <th>5</th>\n",
       "      <td>CH</td>\n",
       "      <td>81.9</td>\n",
       "      <td>0.0</td>\n",
       "      <td>1</td>\n",
       "      <td>2</td>\n",
       "      <td>field_out</td>\n",
       "      <td>4</td>\n",
       "      <td>L</td>\n",
       "      <td>1-2</td>\n",
       "    </tr>\n",
       "    <tr>\n",
       "      <th>12</th>\n",
       "      <td>CH</td>\n",
       "      <td>79.7</td>\n",
       "      <td>0.0</td>\n",
       "      <td>1</td>\n",
       "      <td>1</td>\n",
       "      <td>field_out</td>\n",
       "      <td>3</td>\n",
       "      <td>L</td>\n",
       "      <td>1-1</td>\n",
       "    </tr>\n",
       "    <tr>\n",
       "      <th>27</th>\n",
       "      <td>CH</td>\n",
       "      <td>83.1</td>\n",
       "      <td>0.0</td>\n",
       "      <td>2</td>\n",
       "      <td>3</td>\n",
       "      <td>walk</td>\n",
       "      <td>7</td>\n",
       "      <td>R</td>\n",
       "      <td>2-3</td>\n",
       "    </tr>\n",
       "    <tr>\n",
       "      <th rowspan=\"5\" valign=\"top\">2018-04-13</th>\n",
       "      <th>3</th>\n",
       "      <td>CH</td>\n",
       "      <td>82.5</td>\n",
       "      <td>0.0</td>\n",
       "      <td>1</td>\n",
       "      <td>0</td>\n",
       "      <td>force_out</td>\n",
       "      <td>2</td>\n",
       "      <td>L</td>\n",
       "      <td>1-0</td>\n",
       "    </tr>\n",
       "    <tr>\n",
       "      <th>23</th>\n",
       "      <td>CH</td>\n",
       "      <td>82.4</td>\n",
       "      <td>0.0</td>\n",
       "      <td>1</td>\n",
       "      <td>0</td>\n",
       "      <td>field_error</td>\n",
       "      <td>2</td>\n",
       "      <td>L</td>\n",
       "      <td>1-0</td>\n",
       "    </tr>\n",
       "    <tr>\n",
       "      <th>25</th>\n",
       "      <td>CH</td>\n",
       "      <td>83.0</td>\n",
       "      <td>0.0</td>\n",
       "      <td>0</td>\n",
       "      <td>2</td>\n",
       "      <td>field_out</td>\n",
       "      <td>3</td>\n",
       "      <td>L</td>\n",
       "      <td>0-2</td>\n",
       "    </tr>\n",
       "    <tr>\n",
       "      <th>38</th>\n",
       "      <td>CH</td>\n",
       "      <td>85.6</td>\n",
       "      <td>0.0</td>\n",
       "      <td>2</td>\n",
       "      <td>3</td>\n",
       "      <td>walk</td>\n",
       "      <td>6</td>\n",
       "      <td>R</td>\n",
       "      <td>2-3</td>\n",
       "    </tr>\n",
       "    <tr>\n",
       "      <th>46</th>\n",
       "      <td>CH</td>\n",
       "      <td>84.4</td>\n",
       "      <td>3.0</td>\n",
       "      <td>1</td>\n",
       "      <td>2</td>\n",
       "      <td>home_run</td>\n",
       "      <td>4</td>\n",
       "      <td>R</td>\n",
       "      <td>1-2</td>\n",
       "    </tr>\n",
       "    <tr>\n",
       "      <th>2018-04-18</th>\n",
       "      <th>35</th>\n",
       "      <td>CH</td>\n",
       "      <td>84.6</td>\n",
       "      <td>0.0</td>\n",
       "      <td>1</td>\n",
       "      <td>0</td>\n",
       "      <td>field_out</td>\n",
       "      <td>2</td>\n",
       "      <td>L</td>\n",
       "      <td>1-0</td>\n",
       "    </tr>\n",
       "    <tr>\n",
       "      <th rowspan=\"4\" valign=\"top\">2018-04-23</th>\n",
       "      <th>11</th>\n",
       "      <td>CH</td>\n",
       "      <td>84.8</td>\n",
       "      <td>1.0</td>\n",
       "      <td>1</td>\n",
       "      <td>1</td>\n",
       "      <td>double</td>\n",
       "      <td>3</td>\n",
       "      <td>R</td>\n",
       "      <td>1-1</td>\n",
       "    </tr>\n",
       "    <tr>\n",
       "      <th>20</th>\n",
       "      <td>CH</td>\n",
       "      <td>82.6</td>\n",
       "      <td>0.0</td>\n",
       "      <td>0</td>\n",
       "      <td>0</td>\n",
       "      <td>field_out</td>\n",
       "      <td>1</td>\n",
       "      <td>L</td>\n",
       "      <td>0-0</td>\n",
       "    </tr>\n",
       "    <tr>\n",
       "      <th>25</th>\n",
       "      <td>CH</td>\n",
       "      <td>85.3</td>\n",
       "      <td>0.0</td>\n",
       "      <td>1</td>\n",
       "      <td>0</td>\n",
       "      <td>field_out</td>\n",
       "      <td>2</td>\n",
       "      <td>L</td>\n",
       "      <td>1-0</td>\n",
       "    </tr>\n",
       "    <tr>\n",
       "      <th>32</th>\n",
       "      <td>CH</td>\n",
       "      <td>84.6</td>\n",
       "      <td>3.0</td>\n",
       "      <td>2</td>\n",
       "      <td>1</td>\n",
       "      <td>home_run</td>\n",
       "      <td>5</td>\n",
       "      <td>L</td>\n",
       "      <td>2-1</td>\n",
       "    </tr>\n",
       "    <tr>\n",
       "      <th rowspan=\"2\" valign=\"top\">2018-04-28</th>\n",
       "      <th>9</th>\n",
       "      <td>CH</td>\n",
       "      <td>84.2</td>\n",
       "      <td>0.0</td>\n",
       "      <td>2</td>\n",
       "      <td>3</td>\n",
       "      <td>field_out</td>\n",
       "      <td>6</td>\n",
       "      <td>L</td>\n",
       "      <td>2-3</td>\n",
       "    </tr>\n",
       "    <tr>\n",
       "      <th>27</th>\n",
       "      <td>CH</td>\n",
       "      <td>84.1</td>\n",
       "      <td>0.0</td>\n",
       "      <td>2</td>\n",
       "      <td>3</td>\n",
       "      <td>field_out</td>\n",
       "      <td>6</td>\n",
       "      <td>L</td>\n",
       "      <td>2-3</td>\n",
       "    </tr>\n",
       "    <tr>\n",
       "      <th rowspan=\"8\" valign=\"top\">2018-05-04</th>\n",
       "      <th>2</th>\n",
       "      <td>CH</td>\n",
       "      <td>84.1</td>\n",
       "      <td>0.0</td>\n",
       "      <td>1</td>\n",
       "      <td>2</td>\n",
       "      <td>field_out</td>\n",
       "      <td>4</td>\n",
       "      <td>R</td>\n",
       "      <td>1-2</td>\n",
       "    </tr>\n",
       "    <tr>\n",
       "      <th>11</th>\n",
       "      <td>CH</td>\n",
       "      <td>84.6</td>\n",
       "      <td>0.0</td>\n",
       "      <td>2</td>\n",
       "      <td>3</td>\n",
       "      <td>walk</td>\n",
       "      <td>6</td>\n",
       "      <td>L</td>\n",
       "      <td>2-3</td>\n",
       "    </tr>\n",
       "    <tr>\n",
       "      <th>17</th>\n",
       "      <td>CH</td>\n",
       "      <td>83.7</td>\n",
       "      <td>0.0</td>\n",
       "      <td>1</td>\n",
       "      <td>2</td>\n",
       "      <td>field_out</td>\n",
       "      <td>4</td>\n",
       "      <td>R</td>\n",
       "      <td>1-2</td>\n",
       "    </tr>\n",
       "    <tr>\n",
       "      <th>26</th>\n",
       "      <td>CH</td>\n",
       "      <td>82.4</td>\n",
       "      <td>0.0</td>\n",
       "      <td>0</td>\n",
       "      <td>1</td>\n",
       "      <td>single</td>\n",
       "      <td>2</td>\n",
       "      <td>L</td>\n",
       "      <td>0-1</td>\n",
       "    </tr>\n",
       "    <tr>\n",
       "      <th>27</th>\n",
       "      <td>CH</td>\n",
       "      <td>83.9</td>\n",
       "      <td>0.0</td>\n",
       "      <td>0</td>\n",
       "      <td>2</td>\n",
       "      <td>grounded_into_double_play</td>\n",
       "      <td>3</td>\n",
       "      <td>L</td>\n",
       "      <td>0-2</td>\n",
       "    </tr>\n",
       "    <tr>\n",
       "      <th>32</th>\n",
       "      <td>CH</td>\n",
       "      <td>84.2</td>\n",
       "      <td>0.0</td>\n",
       "      <td>2</td>\n",
       "      <td>2</td>\n",
       "      <td>field_out</td>\n",
       "      <td>7</td>\n",
       "      <td>R</td>\n",
       "      <td>2-2</td>\n",
       "    </tr>\n",
       "    <tr>\n",
       "      <th>34</th>\n",
       "      <td>CH</td>\n",
       "      <td>83.6</td>\n",
       "      <td>0.0</td>\n",
       "      <td>2</td>\n",
       "      <td>2</td>\n",
       "      <td>force_out</td>\n",
       "      <td>5</td>\n",
       "      <td>R</td>\n",
       "      <td>2-2</td>\n",
       "    </tr>\n",
       "    <tr>\n",
       "      <th>36</th>\n",
       "      <td>CH</td>\n",
       "      <td>82.1</td>\n",
       "      <td>1.0</td>\n",
       "      <td>2</td>\n",
       "      <td>2</td>\n",
       "      <td>double</td>\n",
       "      <td>5</td>\n",
       "      <td>L</td>\n",
       "      <td>2-2</td>\n",
       "    </tr>\n",
       "    <tr>\n",
       "      <th>...</th>\n",
       "      <th>...</th>\n",
       "      <td>...</td>\n",
       "      <td>...</td>\n",
       "      <td>...</td>\n",
       "      <td>...</td>\n",
       "      <td>...</td>\n",
       "      <td>...</td>\n",
       "      <td>...</td>\n",
       "      <td>...</td>\n",
       "      <td>...</td>\n",
       "    </tr>\n",
       "    <tr>\n",
       "      <th rowspan=\"3\" valign=\"top\">2018-08-10</th>\n",
       "      <th>24</th>\n",
       "      <td>CH</td>\n",
       "      <td>83.3</td>\n",
       "      <td>0.0</td>\n",
       "      <td>1</td>\n",
       "      <td>0</td>\n",
       "      <td>single</td>\n",
       "      <td>2</td>\n",
       "      <td>R</td>\n",
       "      <td>1-0</td>\n",
       "    </tr>\n",
       "    <tr>\n",
       "      <th>26</th>\n",
       "      <td>CH</td>\n",
       "      <td>83.9</td>\n",
       "      <td>0.0</td>\n",
       "      <td>2</td>\n",
       "      <td>3</td>\n",
       "      <td>single</td>\n",
       "      <td>6</td>\n",
       "      <td>L</td>\n",
       "      <td>2-3</td>\n",
       "    </tr>\n",
       "    <tr>\n",
       "      <th>35</th>\n",
       "      <td>CH</td>\n",
       "      <td>85.0</td>\n",
       "      <td>0.0</td>\n",
       "      <td>2</td>\n",
       "      <td>3</td>\n",
       "      <td>single</td>\n",
       "      <td>6</td>\n",
       "      <td>L</td>\n",
       "      <td>2-3</td>\n",
       "    </tr>\n",
       "    <tr>\n",
       "      <th rowspan=\"3\" valign=\"top\">2018-08-15</th>\n",
       "      <th>5</th>\n",
       "      <td>CH</td>\n",
       "      <td>81.8</td>\n",
       "      <td>0.0</td>\n",
       "      <td>1</td>\n",
       "      <td>1</td>\n",
       "      <td>field_out</td>\n",
       "      <td>3</td>\n",
       "      <td>L</td>\n",
       "      <td>1-1</td>\n",
       "    </tr>\n",
       "    <tr>\n",
       "      <th>11</th>\n",
       "      <td>CH</td>\n",
       "      <td>82.4</td>\n",
       "      <td>0.0</td>\n",
       "      <td>1</td>\n",
       "      <td>1</td>\n",
       "      <td>field_out</td>\n",
       "      <td>3</td>\n",
       "      <td>R</td>\n",
       "      <td>1-1</td>\n",
       "    </tr>\n",
       "    <tr>\n",
       "      <th>48</th>\n",
       "      <td>CH</td>\n",
       "      <td>85.2</td>\n",
       "      <td>0.0</td>\n",
       "      <td>2</td>\n",
       "      <td>3</td>\n",
       "      <td>field_out</td>\n",
       "      <td>6</td>\n",
       "      <td>R</td>\n",
       "      <td>2-3</td>\n",
       "    </tr>\n",
       "    <tr>\n",
       "      <th rowspan=\"6\" valign=\"top\">2018-08-26</th>\n",
       "      <th>7</th>\n",
       "      <td>CH</td>\n",
       "      <td>82.3</td>\n",
       "      <td>0.0</td>\n",
       "      <td>1</td>\n",
       "      <td>2</td>\n",
       "      <td>field_out</td>\n",
       "      <td>4</td>\n",
       "      <td>L</td>\n",
       "      <td>1-2</td>\n",
       "    </tr>\n",
       "    <tr>\n",
       "      <th>15</th>\n",
       "      <td>CH</td>\n",
       "      <td>83.8</td>\n",
       "      <td>0.0</td>\n",
       "      <td>0</td>\n",
       "      <td>1</td>\n",
       "      <td>field_out</td>\n",
       "      <td>2</td>\n",
       "      <td>L</td>\n",
       "      <td>0-1</td>\n",
       "    </tr>\n",
       "    <tr>\n",
       "      <th>28</th>\n",
       "      <td>CH</td>\n",
       "      <td>83.7</td>\n",
       "      <td>0.0</td>\n",
       "      <td>2</td>\n",
       "      <td>1</td>\n",
       "      <td>strikeout</td>\n",
       "      <td>4</td>\n",
       "      <td>L</td>\n",
       "      <td>2-1</td>\n",
       "    </tr>\n",
       "    <tr>\n",
       "      <th>41</th>\n",
       "      <td>CH</td>\n",
       "      <td>85.4</td>\n",
       "      <td>0.0</td>\n",
       "      <td>2</td>\n",
       "      <td>3</td>\n",
       "      <td>strikeout</td>\n",
       "      <td>8</td>\n",
       "      <td>R</td>\n",
       "      <td>2-3</td>\n",
       "    </tr>\n",
       "    <tr>\n",
       "      <th>42</th>\n",
       "      <td>CH</td>\n",
       "      <td>82.3</td>\n",
       "      <td>0.0</td>\n",
       "      <td>0</td>\n",
       "      <td>0</td>\n",
       "      <td>field_out</td>\n",
       "      <td>1</td>\n",
       "      <td>L</td>\n",
       "      <td>0-0</td>\n",
       "    </tr>\n",
       "    <tr>\n",
       "      <th>48</th>\n",
       "      <td>CH</td>\n",
       "      <td>81.6</td>\n",
       "      <td>0.0</td>\n",
       "      <td>0</td>\n",
       "      <td>0</td>\n",
       "      <td>field_out</td>\n",
       "      <td>1</td>\n",
       "      <td>L</td>\n",
       "      <td>0-0</td>\n",
       "    </tr>\n",
       "    <tr>\n",
       "      <th rowspan=\"9\" valign=\"top\">2018-08-31</th>\n",
       "      <th>10</th>\n",
       "      <td>CH</td>\n",
       "      <td>83.0</td>\n",
       "      <td>0.0</td>\n",
       "      <td>1</td>\n",
       "      <td>1</td>\n",
       "      <td>single</td>\n",
       "      <td>3</td>\n",
       "      <td>R</td>\n",
       "      <td>1-1</td>\n",
       "    </tr>\n",
       "    <tr>\n",
       "      <th>18</th>\n",
       "      <td>CH</td>\n",
       "      <td>84.9</td>\n",
       "      <td>0.0</td>\n",
       "      <td>1</td>\n",
       "      <td>0</td>\n",
       "      <td>field_out</td>\n",
       "      <td>2</td>\n",
       "      <td>L</td>\n",
       "      <td>1-0</td>\n",
       "    </tr>\n",
       "    <tr>\n",
       "      <th>19</th>\n",
       "      <td>CH</td>\n",
       "      <td>82.1</td>\n",
       "      <td>0.0</td>\n",
       "      <td>1</td>\n",
       "      <td>2</td>\n",
       "      <td>field_out</td>\n",
       "      <td>4</td>\n",
       "      <td>R</td>\n",
       "      <td>1-2</td>\n",
       "    </tr>\n",
       "    <tr>\n",
       "      <th>20</th>\n",
       "      <td>CH</td>\n",
       "      <td>81.3</td>\n",
       "      <td>0.0</td>\n",
       "      <td>1</td>\n",
       "      <td>1</td>\n",
       "      <td>single</td>\n",
       "      <td>3</td>\n",
       "      <td>L</td>\n",
       "      <td>1-1</td>\n",
       "    </tr>\n",
       "    <tr>\n",
       "      <th>26</th>\n",
       "      <td>CH</td>\n",
       "      <td>85.5</td>\n",
       "      <td>0.0</td>\n",
       "      <td>2</td>\n",
       "      <td>0</td>\n",
       "      <td>force_out</td>\n",
       "      <td>3</td>\n",
       "      <td>R</td>\n",
       "      <td>2-0</td>\n",
       "    </tr>\n",
       "    <tr>\n",
       "      <th>27</th>\n",
       "      <td>CH</td>\n",
       "      <td>85.0</td>\n",
       "      <td>0.0</td>\n",
       "      <td>2</td>\n",
       "      <td>0</td>\n",
       "      <td>strikeout</td>\n",
       "      <td>4</td>\n",
       "      <td>R</td>\n",
       "      <td>2-0</td>\n",
       "    </tr>\n",
       "    <tr>\n",
       "      <th>29</th>\n",
       "      <td>CH</td>\n",
       "      <td>84.2</td>\n",
       "      <td>0.0</td>\n",
       "      <td>1</td>\n",
       "      <td>1</td>\n",
       "      <td>field_out</td>\n",
       "      <td>3</td>\n",
       "      <td>R</td>\n",
       "      <td>1-1</td>\n",
       "    </tr>\n",
       "    <tr>\n",
       "      <th>38</th>\n",
       "      <td>CH</td>\n",
       "      <td>80.4</td>\n",
       "      <td>0.0</td>\n",
       "      <td>1</td>\n",
       "      <td>1</td>\n",
       "      <td>field_out</td>\n",
       "      <td>3</td>\n",
       "      <td>L</td>\n",
       "      <td>1-1</td>\n",
       "    </tr>\n",
       "    <tr>\n",
       "      <th>40</th>\n",
       "      <td>CH</td>\n",
       "      <td>83.8</td>\n",
       "      <td>0.0</td>\n",
       "      <td>2</td>\n",
       "      <td>1</td>\n",
       "      <td>field_out</td>\n",
       "      <td>4</td>\n",
       "      <td>L</td>\n",
       "      <td>2-1</td>\n",
       "    </tr>\n",
       "    <tr>\n",
       "      <th rowspan=\"5\" valign=\"top\">2018-09-05</th>\n",
       "      <th>1</th>\n",
       "      <td>CH</td>\n",
       "      <td>78.9</td>\n",
       "      <td>0.0</td>\n",
       "      <td>1</td>\n",
       "      <td>1</td>\n",
       "      <td>field_out</td>\n",
       "      <td>3</td>\n",
       "      <td>L</td>\n",
       "      <td>1-1</td>\n",
       "    </tr>\n",
       "    <tr>\n",
       "      <th>17</th>\n",
       "      <td>CH</td>\n",
       "      <td>83.0</td>\n",
       "      <td>0.0</td>\n",
       "      <td>2</td>\n",
       "      <td>1</td>\n",
       "      <td>strikeout</td>\n",
       "      <td>4</td>\n",
       "      <td>R</td>\n",
       "      <td>2-1</td>\n",
       "    </tr>\n",
       "    <tr>\n",
       "      <th>19</th>\n",
       "      <td>CH</td>\n",
       "      <td>82.9</td>\n",
       "      <td>0.0</td>\n",
       "      <td>1</td>\n",
       "      <td>2</td>\n",
       "      <td>single</td>\n",
       "      <td>4</td>\n",
       "      <td>L</td>\n",
       "      <td>1-2</td>\n",
       "    </tr>\n",
       "    <tr>\n",
       "      <th>38</th>\n",
       "      <td>CH</td>\n",
       "      <td>82.1</td>\n",
       "      <td>1.0</td>\n",
       "      <td>2</td>\n",
       "      <td>1</td>\n",
       "      <td>double</td>\n",
       "      <td>5</td>\n",
       "      <td>L</td>\n",
       "      <td>2-1</td>\n",
       "    </tr>\n",
       "    <tr>\n",
       "      <th>42</th>\n",
       "      <td>CH</td>\n",
       "      <td>84.0</td>\n",
       "      <td>0.0</td>\n",
       "      <td>0</td>\n",
       "      <td>0</td>\n",
       "      <td>field_error</td>\n",
       "      <td>1</td>\n",
       "      <td>L</td>\n",
       "      <td>0-0</td>\n",
       "    </tr>\n",
       "    <tr>\n",
       "      <th rowspan=\"4\" valign=\"top\">2018-09-13</th>\n",
       "      <th>26</th>\n",
       "      <td>CH</td>\n",
       "      <td>85.0</td>\n",
       "      <td>0.0</td>\n",
       "      <td>0</td>\n",
       "      <td>0</td>\n",
       "      <td>field_out</td>\n",
       "      <td>1</td>\n",
       "      <td>R</td>\n",
       "      <td>0-0</td>\n",
       "    </tr>\n",
       "    <tr>\n",
       "      <th>27</th>\n",
       "      <td>CH</td>\n",
       "      <td>82.8</td>\n",
       "      <td>0.0</td>\n",
       "      <td>1</td>\n",
       "      <td>0</td>\n",
       "      <td>field_out</td>\n",
       "      <td>2</td>\n",
       "      <td>L</td>\n",
       "      <td>1-0</td>\n",
       "    </tr>\n",
       "    <tr>\n",
       "      <th>37</th>\n",
       "      <td>CH</td>\n",
       "      <td>83.9</td>\n",
       "      <td>0.0</td>\n",
       "      <td>2</td>\n",
       "      <td>2</td>\n",
       "      <td>field_out</td>\n",
       "      <td>5</td>\n",
       "      <td>R</td>\n",
       "      <td>2-2</td>\n",
       "    </tr>\n",
       "    <tr>\n",
       "      <th>51</th>\n",
       "      <td>CH</td>\n",
       "      <td>82.0</td>\n",
       "      <td>0.0</td>\n",
       "      <td>1</td>\n",
       "      <td>1</td>\n",
       "      <td>field_out</td>\n",
       "      <td>3</td>\n",
       "      <td>L</td>\n",
       "      <td>1-1</td>\n",
       "    </tr>\n",
       "  </tbody>\n",
       "</table>\n",
       "<p>157 rows × 9 columns</p>\n",
       "</div>"
      ],
      "text/plain": [
       "                         pitch_type  release_speed  iso_value  strikes  balls  \\\n",
       "game_date  at_bat_number                                                        \n",
       "2018-04-01 3                     CH           82.3        0.0        1      1   \n",
       "           4                     CH           82.5        0.0        1      3   \n",
       "           11                    CH           84.2        0.0        2      3   \n",
       "           14                    CH           81.3        0.0        2      1   \n",
       "           21                    CH           83.2        0.0        0      0   \n",
       "           37                    CH           83.2        0.0        1      0   \n",
       "           45                    CH           82.2        0.0        2      1   \n",
       "2018-04-07 5                     CH           81.9        0.0        1      2   \n",
       "           12                    CH           79.7        0.0        1      1   \n",
       "           27                    CH           83.1        0.0        2      3   \n",
       "2018-04-13 3                     CH           82.5        0.0        1      0   \n",
       "           23                    CH           82.4        0.0        1      0   \n",
       "           25                    CH           83.0        0.0        0      2   \n",
       "           38                    CH           85.6        0.0        2      3   \n",
       "           46                    CH           84.4        3.0        1      2   \n",
       "2018-04-18 35                    CH           84.6        0.0        1      0   \n",
       "2018-04-23 11                    CH           84.8        1.0        1      1   \n",
       "           20                    CH           82.6        0.0        0      0   \n",
       "           25                    CH           85.3        0.0        1      0   \n",
       "           32                    CH           84.6        3.0        2      1   \n",
       "2018-04-28 9                     CH           84.2        0.0        2      3   \n",
       "           27                    CH           84.1        0.0        2      3   \n",
       "2018-05-04 2                     CH           84.1        0.0        1      2   \n",
       "           11                    CH           84.6        0.0        2      3   \n",
       "           17                    CH           83.7        0.0        1      2   \n",
       "           26                    CH           82.4        0.0        0      1   \n",
       "           27                    CH           83.9        0.0        0      2   \n",
       "           32                    CH           84.2        0.0        2      2   \n",
       "           34                    CH           83.6        0.0        2      2   \n",
       "           36                    CH           82.1        1.0        2      2   \n",
       "...                             ...            ...        ...      ...    ...   \n",
       "2018-08-10 24                    CH           83.3        0.0        1      0   \n",
       "           26                    CH           83.9        0.0        2      3   \n",
       "           35                    CH           85.0        0.0        2      3   \n",
       "2018-08-15 5                     CH           81.8        0.0        1      1   \n",
       "           11                    CH           82.4        0.0        1      1   \n",
       "           48                    CH           85.2        0.0        2      3   \n",
       "2018-08-26 7                     CH           82.3        0.0        1      2   \n",
       "           15                    CH           83.8        0.0        0      1   \n",
       "           28                    CH           83.7        0.0        2      1   \n",
       "           41                    CH           85.4        0.0        2      3   \n",
       "           42                    CH           82.3        0.0        0      0   \n",
       "           48                    CH           81.6        0.0        0      0   \n",
       "2018-08-31 10                    CH           83.0        0.0        1      1   \n",
       "           18                    CH           84.9        0.0        1      0   \n",
       "           19                    CH           82.1        0.0        1      2   \n",
       "           20                    CH           81.3        0.0        1      1   \n",
       "           26                    CH           85.5        0.0        2      0   \n",
       "           27                    CH           85.0        0.0        2      0   \n",
       "           29                    CH           84.2        0.0        1      1   \n",
       "           38                    CH           80.4        0.0        1      1   \n",
       "           40                    CH           83.8        0.0        2      1   \n",
       "2018-09-05 1                     CH           78.9        0.0        1      1   \n",
       "           17                    CH           83.0        0.0        2      1   \n",
       "           19                    CH           82.9        0.0        1      2   \n",
       "           38                    CH           82.1        1.0        2      1   \n",
       "           42                    CH           84.0        0.0        0      0   \n",
       "2018-09-13 26                    CH           85.0        0.0        0      0   \n",
       "           27                    CH           82.8        0.0        1      0   \n",
       "           37                    CH           83.9        0.0        2      2   \n",
       "           51                    CH           82.0        0.0        1      1   \n",
       "\n",
       "                                             events  pitch_number stand count  \n",
       "game_date  at_bat_number                                                       \n",
       "2018-04-01 3                              field_out             3     L   1-1  \n",
       "           4                              field_out             5     L   1-3  \n",
       "           11                                  walk             8     R   2-3  \n",
       "           14                             field_out             4     L   2-1  \n",
       "           21                             field_out             1     L   0-0  \n",
       "           37             grounded_into_double_play             2     L   1-0  \n",
       "           45                             field_out             4     L   2-1  \n",
       "2018-04-07 5                              field_out             4     L   1-2  \n",
       "           12                             field_out             3     L   1-1  \n",
       "           27                                  walk             7     R   2-3  \n",
       "2018-04-13 3                              force_out             2     L   1-0  \n",
       "           23                           field_error             2     L   1-0  \n",
       "           25                             field_out             3     L   0-2  \n",
       "           38                                  walk             6     R   2-3  \n",
       "           46                              home_run             4     R   1-2  \n",
       "2018-04-18 35                             field_out             2     L   1-0  \n",
       "2018-04-23 11                                double             3     R   1-1  \n",
       "           20                             field_out             1     L   0-0  \n",
       "           25                             field_out             2     L   1-0  \n",
       "           32                              home_run             5     L   2-1  \n",
       "2018-04-28 9                              field_out             6     L   2-3  \n",
       "           27                             field_out             6     L   2-3  \n",
       "2018-05-04 2                              field_out             4     R   1-2  \n",
       "           11                                  walk             6     L   2-3  \n",
       "           17                             field_out             4     R   1-2  \n",
       "           26                                single             2     L   0-1  \n",
       "           27             grounded_into_double_play             3     L   0-2  \n",
       "           32                             field_out             7     R   2-2  \n",
       "           34                             force_out             5     R   2-2  \n",
       "           36                                double             5     L   2-2  \n",
       "...                                             ...           ...   ...   ...  \n",
       "2018-08-10 24                                single             2     R   1-0  \n",
       "           26                                single             6     L   2-3  \n",
       "           35                                single             6     L   2-3  \n",
       "2018-08-15 5                              field_out             3     L   1-1  \n",
       "           11                             field_out             3     R   1-1  \n",
       "           48                             field_out             6     R   2-3  \n",
       "2018-08-26 7                              field_out             4     L   1-2  \n",
       "           15                             field_out             2     L   0-1  \n",
       "           28                             strikeout             4     L   2-1  \n",
       "           41                             strikeout             8     R   2-3  \n",
       "           42                             field_out             1     L   0-0  \n",
       "           48                             field_out             1     L   0-0  \n",
       "2018-08-31 10                                single             3     R   1-1  \n",
       "           18                             field_out             2     L   1-0  \n",
       "           19                             field_out             4     R   1-2  \n",
       "           20                                single             3     L   1-1  \n",
       "           26                             force_out             3     R   2-0  \n",
       "           27                             strikeout             4     R   2-0  \n",
       "           29                             field_out             3     R   1-1  \n",
       "           38                             field_out             3     L   1-1  \n",
       "           40                             field_out             4     L   2-1  \n",
       "2018-09-05 1                              field_out             3     L   1-1  \n",
       "           17                             strikeout             4     R   2-1  \n",
       "           19                                single             4     L   1-2  \n",
       "           38                                double             5     L   2-1  \n",
       "           42                           field_error             1     L   0-0  \n",
       "2018-09-13 26                             field_out             1     R   0-0  \n",
       "           27                             field_out             2     L   1-0  \n",
       "           37                             field_out             5     R   2-2  \n",
       "           51                             field_out             3     L   1-1  \n",
       "\n",
       "[157 rows x 9 columns]"
      ]
     },
     "execution_count": 69,
     "metadata": {},
     "output_type": "execute_result"
    }
   ],
   "source": [
    "pitch_dict['CH']"
   ]
  },
  {
   "cell_type": "code",
   "execution_count": null,
   "metadata": {},
   "outputs": [],
   "source": []
  },
  {
   "cell_type": "code",
   "execution_count": null,
   "metadata": {},
   "outputs": [],
   "source": []
  },
  {
   "cell_type": "code",
   "execution_count": null,
   "metadata": {},
   "outputs": [],
   "source": []
  },
  {
   "cell_type": "code",
   "execution_count": null,
   "metadata": {},
   "outputs": [],
   "source": []
  },
  {
   "cell_type": "code",
   "execution_count": null,
   "metadata": {},
   "outputs": [],
   "source": []
  },
  {
   "cell_type": "code",
   "execution_count": null,
   "metadata": {},
   "outputs": [],
   "source": [
    "ml_focus.apply(lambda x: str(x['game_date']) + '_' + str(x['at_bat_number']))"
   ]
  },
  {
   "cell_type": "code",
   "execution_count": 9,
   "metadata": {},
   "outputs": [],
   "source": [
    "pit_res['count'] = pit_res['strikes'].map(str) + '-' + pit_res['balls'].map(str)"
   ]
  },
  {
   "cell_type": "code",
   "execution_count": 12,
   "metadata": {},
   "outputs": [],
   "source": [
    "def focus_events(pit_name, cols=['pitch_type', 'release_speed', 'iso_value', 'strikes', 'balls', 'events']):\n",
    "    file = 'data/{}.csv'.format(pit_name)\n",
    "    pit_df = pd.read_csv(file, encoding='utf-8')\n",
    "    pit_focus = pit_df[cols]\n",
    "    pit_focus['count'] = pit_df['strikes'].map(str) + '-' + pit_df['balls'].map(str)\n",
    "    return pit_focus"
   ]
  },
  {
   "cell_type": "code",
   "execution_count": 10,
   "metadata": {},
   "outputs": [
    {
     "data": {
      "text/plain": [
       "CH    1\n",
       "Name: pitch_type, dtype: int64"
      ]
     },
     "execution_count": 10,
     "metadata": {},
     "output_type": "execute_result"
    }
   ],
   "source": [
    "list(pit_res.groupby('events'))[0][1]['pitch_type'].value_counts()"
   ]
  },
  {
   "cell_type": "code",
   "execution_count": 82,
   "metadata": {},
   "outputs": [
    {
     "data": {
      "text/plain": [
       "0-0    5\n",
       "1-3    4\n",
       "2-2    3\n",
       "1-0    3\n",
       "0-1    3\n",
       "2-3    2\n",
       "2-1    2\n",
       "1-1    2\n",
       "1-2    1\n",
       "Name: count, dtype: int64"
      ]
     },
     "execution_count": 82,
     "metadata": {},
     "output_type": "execute_result"
    }
   ],
   "source": [
    "list(lb_res.groupby('events'))[0][1]['count'].value_counts()"
   ]
  },
  {
   "cell_type": "code",
   "execution_count": 80,
   "metadata": {},
   "outputs": [
    {
     "data": {
      "text/plain": [
       "FT    11\n",
       "CH     6\n",
       "FC     4\n",
       "CU     2\n",
       "Name: pitch_type, dtype: int64"
      ]
     },
     "execution_count": 80,
     "metadata": {},
     "output_type": "execute_result"
    }
   ],
   "source": [
    "list(lb_res.groupby('events'))[7][1]['pitch_type'].value_counts()"
   ]
  },
  {
   "cell_type": "code",
   "execution_count": 81,
   "metadata": {},
   "outputs": [
    {
     "data": {
      "text/plain": [
       "2-3    5\n",
       "1-1    4\n",
       "0-0    3\n",
       "1-0    3\n",
       "2-0    2\n",
       "2-2    2\n",
       "1-2    2\n",
       "2-1    2\n",
       "Name: count, dtype: int64"
      ]
     },
     "execution_count": 81,
     "metadata": {},
     "output_type": "execute_result"
    }
   ],
   "source": [
    "list(lb_res.groupby('events'))[7][1]['count'].value_counts()"
   ]
  },
  {
   "cell_type": "code",
   "execution_count": 140,
   "metadata": {},
   "outputs": [
    {
     "data": {
      "text/plain": [
       "Index(['pitch_type', 'game_date', 'release_speed', 'release_pos_x',\n",
       "       'release_pos_z', 'player_name', 'batter', 'pitcher', 'events',\n",
       "       'description', 'spin_dir', 'spin_rate_deprecated',\n",
       "       'break_angle_deprecated', 'break_length_deprecated', 'zone', 'des',\n",
       "       'game_type', 'stand', 'p_throws', 'home_team', 'away_team', 'type',\n",
       "       'hit_location', 'bb_type', 'balls', 'strikes', 'game_year', 'pfx_x',\n",
       "       'pfx_z', 'plate_x', 'plate_z', 'on_3b', 'on_2b', 'on_1b',\n",
       "       'outs_when_up', 'inning', 'inning_topbot', 'hc_x', 'hc_y',\n",
       "       'tfs_deprecated', 'tfs_zulu_deprecated', 'pos2_person_id', 'umpire',\n",
       "       'sv_id', 'vx0', 'vy0', 'vz0', 'ax', 'ay', 'az', 'sz_top', 'sz_bot',\n",
       "       'hit_distance_sc', 'launch_speed', 'launch_angle', 'effective_speed',\n",
       "       'release_spin_rate', 'release_extension', 'game_pk', 'pos1_person_id',\n",
       "       'pos2_person_id.1', 'pos3_person_id', 'pos4_person_id',\n",
       "       'pos5_person_id', 'pos6_person_id', 'pos7_person_id', 'pos8_person_id',\n",
       "       'pos9_person_id', 'release_pos_y', 'estimated_ba_using_speedangle',\n",
       "       'estimated_woba_using_speedangle', 'woba_value', 'woba_denom',\n",
       "       'babip_value', 'iso_value', 'launch_speed_angle', 'at_bat_number',\n",
       "       'pitch_number', 'pitch_name', 'home_score', 'away_score', 'bat_score',\n",
       "       'fld_score', 'post_away_score', 'post_home_score', 'post_bat_score',\n",
       "       'post_fld_score', 'if_fielding_alignment', 'of_fielding_alignment'],\n",
       "      dtype='object')"
      ]
     },
     "execution_count": 140,
     "metadata": {},
     "output_type": "execute_result"
    }
   ],
   "source": [
    "pd.read_csv('data/mike_leake.csv').columns"
   ]
  },
  {
   "cell_type": "code",
   "execution_count": null,
   "metadata": {},
   "outputs": [],
   "source": []
  }
 ],
 "metadata": {
  "kernelspec": {
   "display_name": "Python 3",
   "language": "python",
   "name": "python3"
  },
  "language_info": {
   "codemirror_mode": {
    "name": "ipython",
    "version": 3
   },
   "file_extension": ".py",
   "mimetype": "text/x-python",
   "name": "python",
   "nbconvert_exporter": "python",
   "pygments_lexer": "ipython3",
   "version": "3.6.6"
  }
 },
 "nbformat": 4,
 "nbformat_minor": 2
}
